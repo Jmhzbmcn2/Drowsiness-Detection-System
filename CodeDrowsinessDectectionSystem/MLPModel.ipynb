{
 "metadata": {
  "kernelspec": {
   "language": "python",
   "display_name": "Python 3",
   "name": "python3"
  },
  "language_info": {
   "name": "python",
   "version": "3.10.14",
   "mimetype": "text/x-python",
   "codemirror_mode": {
    "name": "ipython",
    "version": 3
   },
   "pygments_lexer": "ipython3",
   "nbconvert_exporter": "python",
   "file_extension": ".py"
  },
  "kaggle": {
   "accelerator": "none",
   "dataSources": [
    {
     "sourceId": 9950742,
     "sourceType": "datasetVersion",
     "datasetId": 6119435
    }
   ],
   "dockerImageVersionId": 30786,
   "isInternetEnabled": false,
   "language": "python",
   "sourceType": "notebook",
   "isGpuEnabled": false
  }
 },
 "nbformat_minor": 4,
 "nbformat": 4,
 "cells": [
  {
   "cell_type": "code",
   "source": [
    "from tensorflow.keras.preprocessing.image import ImageDataGenerator\n",
    "\n",
    "# Khởi tạo ImageDataGenerator cho dữ liệu huấn luyện và kiểm tra\n",
    "train_datagen = ImageDataGenerator(\n",
    "    rescale=1./255,  # Chỉ cần chuẩn hóa giá trị pixel\n",
    ")\n",
    "\n",
    "test_datagen = ImageDataGenerator(\n",
    "    rescale=1./255  # Chỉ rescale, không cần augmentation\n",
    ")\n",
    "\n",
    "# Đọc dữ liệu từ thư mục đã chia\n",
    "train_generator = train_datagen.flow_from_directory(\n",
    "    '/kaggle/input/eyesdataclassification/train',  # Thư mục chứa các thư mục con 'Drowsy' và 'Non Drowsy'\n",
    "    target_size=(224, 224),  # Kích thước đầu vào\n",
    "    batch_size=32,\n",
    "    class_mode='binary',  # Vì là bài toán nhị phân\n",
    "    # Sử dụng ảnh grayscale\n",
    ")\n",
    "\n",
    "validation_generator = test_datagen.flow_from_directory(\n",
    "    '/kaggle/input/eyesdataclassification/test',  # Thư mục chứa các thư mục con 'Drowsy' và 'Non Drowsy'\n",
    "    target_size=(224, 224),  # Kích thước đầu vào\n",
    "    batch_size=32,\n",
    "    class_mode='binary',  # Phân loại nhị phân\n",
    "     # Sử dụng ảnh grayscale\n",
    ")\n"
   ],
   "metadata": {
    "_uuid": "8f2839f25d086af736a60e9eeb907d3b93b6e0e5",
    "_cell_guid": "b1076dfc-b9ad-4769-8c92-a6c4dae69d19",
    "trusted": true,
    "execution": {
     "iopub.status.busy": "2024-11-19T12:44:51.115108Z",
     "iopub.execute_input": "2024-11-19T12:44:51.115541Z",
     "iopub.status.idle": "2024-11-19T12:45:13.290538Z",
     "shell.execute_reply.started": "2024-11-19T12:44:51.115506Z",
     "shell.execute_reply": "2024-11-19T12:45:13.289342Z"
    }
   },
   "outputs": [
    {
     "name": "stdout",
     "text": "Found 5713 images belonging to 2 classes.\nFound 239 images belonging to 2 classes.\n",
     "output_type": "stream"
    }
   ],
   "execution_count": 1
  },
  {
   "cell_type": "code",
   "source": [
    "from sklearn.neural_network import MLPClassifier\n",
    "from sklearn.decomposition import PCA\n",
    "from sklearn.metrics import classification_report, accuracy_score\n",
    "import numpy as np\n",
    "\n",
    "# --- 1. Lấy toàn bộ dữ liệu ---\n",
    "# Lấy dữ liệu từ train_generator\n",
    "X_train, y_train = [], []\n",
    "for _ in range(len(train_generator)):\n",
    "    X_batch, y_batch = next(train_generator)\n",
    "    X_train.append(X_batch)\n",
    "    y_train.append(y_batch)\n",
    "\n",
    "X_train = np.concatenate(X_train)\n",
    "y_train = np.concatenate(y_train)\n",
    "\n",
    "# Lấy dữ liệu từ validation_generator\n",
    "X_val, y_val = [], []\n",
    "for _ in range(len(validation_generator)):\n",
    "    X_batch, y_batch = next(validation_generator)\n",
    "    X_val.append(X_batch)\n",
    "    y_val.append(y_batch)\n",
    "\n",
    "X_val = np.concatenate(X_val)\n",
    "y_val = np.concatenate(y_val)\n",
    "\n",
    "# --- 2. MLP không giảm chiều ---\n",
    "# Chuyển dữ liệu thành dạng 1D\n",
    "X_train_flattened = X_train.reshape(X_train.shape[0], -1)\n",
    "X_val_flattened = X_val.reshape(X_val.shape[0], -1)\n",
    "\n",
    "# Khởi tạo và huấn luyện MLP\n",
    "mlp_no_pca = MLPClassifier(hidden_layer_sizes=(128, 64), max_iter=500, random_state=42)\n",
    "mlp_no_pca.fit(X_train_flattened, y_train)\n",
    "\n",
    "# Dự đoán và đánh giá\n",
    "y_pred_no_pca = mlp_no_pca.predict(X_val_flattened)\n",
    "accuracy_no_pca = accuracy_score(y_val, y_pred_no_pca)\n",
    "print(f\"MLP Accuracy (No PCA): {accuracy_no_pca:.4f}\")\n",
    "print(\"Classification Report (No PCA):\")\n",
    "print(classification_report(y_val, y_pred_no_pca))\n"
   ],
   "metadata": {
    "trusted": true,
    "execution": {
     "iopub.status.busy": "2024-11-19T12:45:13.292727Z",
     "iopub.execute_input": "2024-11-19T12:45:13.293372Z",
     "iopub.status.idle": "2024-11-19T13:08:09.862186Z",
     "shell.execute_reply.started": "2024-11-19T12:45:13.293333Z",
     "shell.execute_reply": "2024-11-19T13:08:09.856947Z"
    }
   },
   "outputs": [
    {
     "name": "stdout",
     "text": "MLP Accuracy (No PCA): 0.9833\nClassification Report (No PCA):\n              precision    recall  f1-score   support\n\n         0.0       0.97      0.99      0.98       108\n         1.0       0.99      0.98      0.98       131\n\n    accuracy                           0.98       239\n   macro avg       0.98      0.98      0.98       239\nweighted avg       0.98      0.98      0.98       239\n\n",
     "output_type": "stream"
    }
   ],
   "execution_count": 2
  },
  {
   "cell_type": "code",
   "source": [
    "from sklearn.decomposition import PCA\n",
    "# --- 3. MLP giảm chiều bằng PCA ---\n",
    "# Áp dụng PCA giữ lại 90% phương sai\n",
    "pca = PCA(n_components=0.9, svd_solver='full')\n",
    "X_train_pca = pca.fit_transform(X_train_flattened)\n",
    "X_val_pca = pca.transform(X_val_flattened)\n",
    "\n",
    "# Khởi tạo và huấn luyện MLP với dữ liệu đã giảm chiều\n",
    "mlp_with_pca = MLPClassifier(hidden_layer_sizes=(128, 64), max_iter=500, random_state=42)\n",
    "mlp_with_pca.fit(X_train_pca, y_train)\n",
    "\n",
    "# Dự đoán và đánh giá\n",
    "y_pred_with_pca = mlp_with_pca.predict(X_val_pca)\n",
    "accuracy_with_pca = accuracy_score(y_val, y_pred_with_pca)\n",
    "print(f\"MLP Accuracy (With PCA): {accuracy_with_pca:.4f}\")\n",
    "print(\"Classification Report (With PCA):\")\n",
    "print(classification_report(y_val, y_pred_with_pca))"
   ],
   "metadata": {
    "trusted": true,
    "execution": {
     "iopub.status.busy": "2024-11-19T13:08:09.864989Z",
     "iopub.execute_input": "2024-11-19T13:08:09.867332Z",
     "iopub.status.idle": "2024-11-19T13:18:23.271314Z",
     "shell.execute_reply.started": "2024-11-19T13:08:09.867233Z",
     "shell.execute_reply": "2024-11-19T13:18:23.265283Z"
    }
   },
   "outputs": [
    {
     "name": "stdout",
     "text": "MLP Accuracy (With PCA): 1.0000\nClassification Report (With PCA):\n              precision    recall  f1-score   support\n\n         0.0       1.00      1.00      1.00       108\n         1.0       1.00      1.00      1.00       131\n\n    accuracy                           1.00       239\n   macro avg       1.00      1.00      1.00       239\nweighted avg       1.00      1.00      1.00       239\n\n",
     "output_type": "stream"
    }
   ],
   "execution_count": 3
  }
 ]
}
